{
  "nbformat": 4,
  "nbformat_minor": 0,
  "metadata": {
    "colab": {
      "provenance": [],
      "authorship_tag": "ABX9TyMTR1/6Jwa7WfviuzabadfR",
      "include_colab_link": true
    },
    "kernelspec": {
      "name": "python3",
      "display_name": "Python 3"
    },
    "language_info": {
      "name": "python"
    }
  },
  "cells": [
    {
      "cell_type": "markdown",
      "metadata": {
        "id": "view-in-github",
        "colab_type": "text"
      },
      "source": [
        "<a href=\"https://colab.research.google.com/github/CE605A/SAI-MEGHANA-MARRAPU_231030048/blob/main/meghanam23_lab0.ipynb\" target=\"_parent\"><img src=\"https://colab.research.google.com/assets/colab-badge.svg\" alt=\"Open In Colab\"/></a>"
      ]
    },
    {
      "cell_type": "code",
      "execution_count": null,
      "metadata": {
        "id": "xmHuRuI258f8"
      },
      "outputs": [],
      "source": [
        "#1\n",
        "#importing required library\n",
        "import numpy as np\n",
        "#entering the values into the row vector manually\n",
        "a=np.array([5, 9, 11])\n",
        "print(a)"
      ]
    },
    {
      "cell_type": "code",
      "source": [
        "#1\n",
        "#importing required library\n",
        "import numpy as np\n",
        "#entering the values into the column vector manually\n",
        "b=np.array([[6],\n",
        "            [9],\n",
        "            [12]])\n",
        "print(b)"
      ],
      "metadata": {
        "id": "ihiYxwMhO5o9"
      },
      "execution_count": null,
      "outputs": []
    },
    {
      "cell_type": "code",
      "source": [
        "#1\n",
        "#taking no of rows required from the user\n",
        "i=int(input(\"number of rows:  \"))\n",
        "#defining a empty list\n",
        "l=[]\n",
        "for x in range(i):\n",
        "#taking input from the user using input() method\n",
        "    v=input()\n",
        "#adding the values into the empty list\n",
        "    l.append(v)\n",
        "#printing the row matrix\n",
        "print(l)"
      ],
      "metadata": {
        "id": "JY3a5z6BO9Fd"
      },
      "execution_count": null,
      "outputs": []
    },
    {
      "cell_type": "code",
      "source": [
        "#1\n",
        "#taking  number of columns required from the user\n",
        "i=int(input(\"number of columns: \"))\n",
        "#defining empty vector\n",
        "l= []\n",
        "for x in range(i):\n",
        "#taking input from the user using input() method\n",
        "    v=input()\n",
        "#adding the values into empty vector\n",
        "    l.append(v)\n",
        "#printing the each element in the column vector\n",
        "for e in l:\n",
        "    print(e)"
      ],
      "metadata": {
        "id": "9Ydl1zkJPCfz"
      },
      "execution_count": null,
      "outputs": []
    },
    {
      "cell_type": "code",
      "source": [
        "#2\n",
        "#IMPORTING THE REQUIRED LIBRARIES\n",
        "import numpy as np\n",
        "#input for number of rows\n",
        "i=int(input(\"enter number of rows:  \"))\n",
        "#input for number of columns\n",
        "j=int(input(\"enter number of columns:  \"))\n",
        "#empty list for required matrix\n",
        "y=[]\n",
        "#for loop for row values\n",
        "for x in range(i):\n",
        "#empty list to append the column values\n",
        "  c=[]\n",
        "#for loop for column values\n",
        "  for x in range(j):\n",
        "#input for the values in the matrix\n",
        "    v=input()\n",
        "#adding the values into the empty list\n",
        "    c.append(v)\n",
        "#adding all the columns into the empty list y\n",
        "  y.append(c)\n",
        "#changing the list into a matrix form\n",
        "a=np.matrix(y)\n",
        "print(a)"
      ],
      "metadata": {
        "id": "pu51DLIePVbD",
        "outputId": "875a7bf0-4620-4e89-eb51-8ebb3a045d03",
        "colab": {
          "base_uri": "https://localhost:8080/"
        }
      },
      "execution_count": 1,
      "outputs": [
        {
          "output_type": "stream",
          "name": "stdout",
          "text": [
            "enter number of rows:  3\n",
            "enter number of columns:  3\n",
            "1\n",
            "2\n",
            "3\n",
            "4\n",
            "5\n",
            "6\n",
            "7\n",
            "8\n",
            "9\n",
            "[['1' '2' '3']\n",
            " ['4' '5' '6']\n",
            " ['7' '8' '9']]\n"
          ]
        }
      ]
    },
    {
      "cell_type": "code",
      "source": [
        "#2\n",
        "#importing  the required library\n",
        "import numpy as np\n",
        "#entering the matrix values manually\n",
        "a=np.matrix('[1,2,3,4,5;2,4,6,7,9;8,9,5,7,7;2,6,9,0,4;3,7,2,8,1]')\n",
        "#printing matrix a\n",
        "print(a)\n",
        "#3\n",
        "#printing 3rd row from the matrix\n",
        "print(a[2])\n",
        "#4\n",
        "#printing 4th column from the matrix\n",
        "print(a[:,3])\n",
        "#5\n",
        "#sorting the matrix\n",
        "a.sort()\n",
        "print(a)"
      ],
      "metadata": {
        "id": "ZXk7f17PPeyp"
      },
      "execution_count": null,
      "outputs": []
    },
    {
      "cell_type": "code",
      "source": [
        "#6\n",
        "#defining matrix A\n",
        "a= [\n",
        "    [1,2,3,4,5],\n",
        "    [2,4,6,7,9],\n",
        "    [8,9,5,7,7],\n",
        "    [2,6,9,0,4],\n",
        "    [3,7,2,8,1]\n",
        "]\n",
        "\n",
        "# Applying the for loop to modify the matrix A\n",
        "for i in range(5):\n",
        "    for j in range(5):\n",
        "#as mentioned if the element is greater than 2 it must be multiplied by 10\n",
        "        if a[i][j] > 2:\n",
        "            a[i][j] *= 10\n",
        "            a[i][j] =   str(a[i][j])\n",
        "print(\"Modified Matrix:\")\n",
        "b=a\n",
        "\"\"\"for row in matrix:\n",
        "    print(row)\"\"\"\n",
        "#printing the modified matrix\n",
        "print(b)"
      ],
      "metadata": {
        "id": "jH5B2jq3Pl1t"
      },
      "execution_count": null,
      "outputs": []
    },
    {
      "cell_type": "code",
      "source": [],
      "metadata": {
        "id": "YdgDx89NQFAA"
      },
      "execution_count": null,
      "outputs": []
    },
    {
      "cell_type": "code",
      "source": [
        "#7\n",
        "#defining matrix A\n",
        "a= [\n",
        "    [1,2,3,4,5],\n",
        "    [2,4,6,7,9],\n",
        "    [8,9,5,7,7],\n",
        "    [2,6,9,0,4],\n",
        "    [3,7,2,8,1]\n",
        "]\n",
        "#defining matrix B\n",
        "b=[\n",
        "    [1,2,30,40,50],\n",
        "    [2,40,60,70,90],\n",
        "    [80,90,50,70,70],\n",
        "    [2,60,90,0,40],\n",
        "    [30,70,2,80,1]]\n",
        "#defining a 5x5 matrix with all zero\n",
        "sum=[[0,0,0,0,0],\n",
        "     [0,0,0,0,0],\n",
        "     [0,0,0,0,0],\n",
        "     [0,0,0,0,0],\n",
        "     [0,0,0,0,0]]\n",
        "#applying for loop\n",
        "for i in range(len(a)):\n",
        "    for j in range(len(a[0])):\n",
        "#adding corresponding elements from both matrices and storing in the sum matrix\n",
        "        sum[i][j]=a[i][j]+b[i][j]\n",
        "#printing every element of the r matrix\n",
        "for r in sum:\n",
        "  print(r)"
      ],
      "metadata": {
        "colab": {
          "base_uri": "https://localhost:8080/"
        },
        "id": "K2wkzwP6aOCo",
        "outputId": "c3286fc8-6379-4443-de48-476a81934c29"
      },
      "execution_count": null,
      "outputs": [
        {
          "output_type": "stream",
          "name": "stdout",
          "text": [
            "[2, 4, 33, 44, 55]\n",
            "[4, 44, 66, 77, 99]\n",
            "[88, 99, 55, 77, 77]\n",
            "[4, 66, 99, 0, 44]\n",
            "[33, 77, 4, 88, 2]\n"
          ]
        }
      ]
    },
    {
      "cell_type": "code",
      "source": [
        "#8\n",
        "#defining matrix A\n",
        "a= [\n",
        "    [1,2,3,4,5],\n",
        "    [2,4,6,7,9],\n",
        "    [8,9,5,7,7],\n",
        "    [2,6,9,0,4],\n",
        "    [3,7,2,8,1]\n",
        "]\n",
        "#defining matrix B\n",
        "b=[\n",
        "    [1,2,30,40,50],\n",
        "    [2,40,60,70,90],\n",
        "    [80,90,50,70,70],\n",
        "    [2,60,90,0,40],\n",
        "    [30,70,2,80,1]]\n",
        "#defining a 5x5 matrix with all zero\n",
        "sub=[[0,0,0,0,0],\n",
        "     [0,0,0,0,0],\n",
        "     [0,0,0,0,0],\n",
        "     [0,0,0,0,0],\n",
        "     [0,0,0,0,0]]\n",
        "#applying for loop\n",
        "for i in range(len(a)):\n",
        "    for j in range(len(a[0])):\n",
        "#substarcting corresponding elements from both matrices and storing in the sub matrix\n",
        "        sub[i][j]=a[i][j]-b[i][j]\n",
        "#printing every element of the r matrix\n",
        "for r in sub:\n",
        "  print(r)"
      ],
      "metadata": {
        "colab": {
          "base_uri": "https://localhost:8080/"
        },
        "id": "Q_DOl9v3QjbY",
        "outputId": "f2053ceb-ea71-4ef4-b8c7-62bcd06c21dc"
      },
      "execution_count": null,
      "outputs": [
        {
          "output_type": "stream",
          "name": "stdout",
          "text": [
            "[0, 0, -27, -36, -45]\n",
            "[0, -36, -54, -63, -81]\n",
            "[-72, -81, -45, -63, -63]\n",
            "[0, -54, -81, 0, -36]\n",
            "[-27, -63, 0, -72, 0]\n"
          ]
        }
      ]
    },
    {
      "cell_type": "code",
      "source": [
        "#9\n",
        "#defining matrix A\n",
        "a= [\n",
        "    [1,2,3,4,5],\n",
        "    [2,4,6,7,9],\n",
        "    [8,9,5,7,7],\n",
        "    [2,6,9,0,4],\n",
        "    [3,7,2,8,1]\n",
        "]\n",
        "#defining matrix B\n",
        "b=[\n",
        "    [1,2,30,40,50],\n",
        "    [2,40,60,70,90],\n",
        "    [80,90,50,70,70],\n",
        "    [2,60,90,0,40],\n",
        "    [30,70,2,80,1]]\n",
        "#defining a 5x5 matrix with all zero\n",
        "multi=[[0,0,0,0,0],\n",
        "       [0,0,0,0,0],\n",
        "       [0,0,0,0,0],\n",
        "       [0,0,0,0,0],\n",
        "       [0,0,0,0,0]]\n",
        "#applying for loop\n",
        "for i in range(len(a)):\n",
        "    for j in range(len(a[0])):\n",
        "#multiplying corresponding elements from both matrices and storing in the multi matrix\n",
        "        multi[i][j]=a[i][j]*b[i][j]\n",
        "#printing every element of the multi matrix\n",
        "for r in multi:\n",
        "  print(r)"
      ],
      "metadata": {
        "colab": {
          "base_uri": "https://localhost:8080/"
        },
        "id": "SBKuLtykQ7D-",
        "outputId": "0c2acab8-2957-4ab6-c098-2e86ea91bd45"
      },
      "execution_count": null,
      "outputs": [
        {
          "output_type": "stream",
          "name": "stdout",
          "text": [
            "[1, 4, 90, 160, 250]\n",
            "[4, 160, 360, 490, 810]\n",
            "[640, 810, 250, 490, 490]\n",
            "[4, 360, 810, 0, 160]\n",
            "[90, 490, 4, 640, 1]\n"
          ]
        }
      ]
    },
    {
      "cell_type": "code",
      "source": [
        "#9\n",
        "#defining matrix A\n",
        "a= [\n",
        "    [1,2,3,4,5],\n",
        "    [2,4,6,7,9],\n",
        "    [8,9,5,7,7],\n",
        "    [2,6,9,0,4],\n",
        "    [3,7,2,8,1]\n",
        "]\n",
        "#defining matrix B\n",
        "b=[\n",
        "    [1,2,30,40,50],\n",
        "    [2,40,60,70,90],\n",
        "    [80,90,50,70,70],\n",
        "    [2,60,90,0,40],\n",
        "    [30,70,2,80,1]]\n",
        "#defining a 5x5 matrix with all zero\n",
        "result=[[0,0,0,0,0],\n",
        "         [0,0,0,0,0],\n",
        "         [0,0,0,0,0],\n",
        "         [0,0,0,0,0],\n",
        "         [0,0,0,0,0]]\n",
        "#applying for loop\n",
        "for i in range(len(a)):\n",
        "    for j in range(len(b[0])):\n",
        "        for k in range(len(b)):\n",
        "#performing matrix multiplication\n",
        "            result[i][j]+=a[i][k]*b[k][j]\n",
        "#printing every element from the result\n",
        "for row in result:\n",
        "    print(row)"
      ],
      "metadata": {
        "id": "0DBgIaDORYbG"
      },
      "execution_count": null,
      "outputs": []
    },
    {
      "cell_type": "code",
      "source": [
        "#10\n",
        "#importing all the required libraries\n",
        "import numpy as np\n",
        "a = np.array([[1,2,3,4,5],\n",
        "              [2,4,6,7,9],\n",
        "              [8,9,5,7,7],\n",
        "              [2,6,9,0,4],\n",
        "              [3,7,2,8,1]])\n",
        "# Divide every element of the matrix by 18\n",
        "result = a / 18\n",
        "# Print the result\n",
        "print(result)"
      ],
      "metadata": {
        "colab": {
          "base_uri": "https://localhost:8080/"
        },
        "id": "hVtDCni9Ruv4",
        "outputId": "409e3273-a931-442e-8826-17c43ab9a0cf"
      },
      "execution_count": null,
      "outputs": [
        {
          "output_type": "stream",
          "name": "stdout",
          "text": [
            "[[0.05555556 0.11111111 0.16666667 0.22222222 0.27777778]\n",
            " [0.11111111 0.22222222 0.33333333 0.38888889 0.5       ]\n",
            " [0.44444444 0.5        0.27777778 0.38888889 0.38888889]\n",
            " [0.11111111 0.33333333 0.5        0.         0.22222222]\n",
            " [0.16666667 0.38888889 0.11111111 0.44444444 0.05555556]]\n"
          ]
        }
      ]
    },
    {
      "cell_type": "code",
      "source": [
        "#10\n",
        "#importing all the required libraries\n",
        "import numpy as np\n",
        "b=np.array([[1,2,30,40,50],\n",
        "          [2,40,60,70,90],\n",
        "          [80,90,50,70,70],\n",
        "          [2,60,90,0,40],\n",
        "          [30,70,2,80,1]])\n",
        "# Divide every element of the matrix by 18\n",
        "result = b / 18\n",
        "# Print the result\n",
        "print(result)"
      ],
      "metadata": {
        "colab": {
          "base_uri": "https://localhost:8080/"
        },
        "id": "UOuUiqnjUu5x",
        "outputId": "9e13fad2-a298-414f-c289-e21b9ea75ad7"
      },
      "execution_count": null,
      "outputs": [
        {
          "output_type": "stream",
          "name": "stdout",
          "text": [
            "[[0.05555556 0.11111111 1.66666667 2.22222222 2.77777778]\n",
            " [0.11111111 2.22222222 3.33333333 3.88888889 5.        ]\n",
            " [4.44444444 5.         2.77777778 3.88888889 3.88888889]\n",
            " [0.11111111 3.33333333 5.         0.         2.22222222]\n",
            " [1.66666667 3.88888889 0.11111111 4.44444444 0.05555556]]\n"
          ]
        }
      ]
    },
    {
      "cell_type": "code",
      "source": [
        "#11\n",
        "#importing the required library\n",
        "#using linalg means linear algebra\n",
        "import numpy as np\n",
        "#defining matrix A\n",
        "a= [\n",
        "    [1,2,3,4,5],\n",
        "    [2,4,6,7,9],\n",
        "    [8,9,5,7,7],\n",
        "    [2,6,9,0,4],\n",
        "    [3,7,2,8,1]\n",
        "]\n",
        "#calculating rank of the matrix\n",
        "np.linalg.matrix_rank(a)\n",
        "#calculating inverse of the matrix\n",
        "np.linalg.inv(a)\n",
        "#calculating the condition number\n",
        "np.linalg.cond(a)\n",
        "#calculating the single value decomposition\n",
        "np.linalg.svd(a)\n",
        "#calculating the norm\n",
        "np.linalg.norm(a)"
      ],
      "metadata": {
        "id": "pcp7ysKSVILi",
        "outputId": "09409490-bed6-43ef-d4d7-e026012f3f5e",
        "colab": {
          "base_uri": "https://localhost:8080/"
        }
      },
      "execution_count": 4,
      "outputs": [
        {
          "output_type": "execute_result",
          "data": {
            "text/plain": [
              "27.80287754891569"
            ]
          },
          "metadata": {},
          "execution_count": 4
        }
      ]
    },
    {
      "cell_type": "code",
      "source": [
        "#11\n",
        "#importing the required library\n",
        "#using linalg means linear algebra\n",
        "import numpy as np\n",
        "#defining matrix B\n",
        "b=[\n",
        "    [1,2,30,40,50],\n",
        "    [2,40,60,70,90],\n",
        "    [80,90,50,70,70],\n",
        "    [2,60,90,0,40],\n",
        "    [30,70,2,80,1]]\n",
        "#calculating rank of the matrix\n",
        "np.linalg.matrix_rank(b)\n",
        "#calculating inverse of the matrix\n",
        "np.linalg.inv(b)\n",
        "#calculating the condition number\n",
        "np.linalg.cond(b)\n",
        "#calculating the single value decomposition\n",
        "np.linalg.svd(b)\n",
        "#calculating the norm\n",
        "np.linalg.norm(b)"
      ],
      "metadata": {
        "id": "eDZcVMUdVO52",
        "outputId": "7866e42d-02ca-4103-bc2f-be2c6a87a4c6",
        "colab": {
          "base_uri": "https://localhost:8080/"
        }
      },
      "execution_count": 6,
      "outputs": [
        {
          "output_type": "execute_result",
          "data": {
            "text/plain": [
              "(array([[-0.23915984, -0.21246387,  0.48512636,  0.0459892 , -0.81252636],\n",
              "        [-0.51480862, -0.3275912 ,  0.54230793, -0.17236828,  0.55122352],\n",
              "        [-0.64830422,  0.30035092, -0.23433252,  0.65915512,  0.00968307],\n",
              "        [-0.36925133, -0.56047905, -0.64452394, -0.33473391, -0.14852203],\n",
              "        [-0.34803699,  0.66572943, -0.01522097, -0.6493396 , -0.11747764]]),\n",
              " array([243.16211502,  97.90111631,  69.71711929,  43.36705112,\n",
              "          8.02367758]),\n",
              " array([[-0.26448498, -0.51790845, -0.42937288, -0.48867502, -0.48852246],\n",
              "        [ 0.42912025,  0.27042923, -0.61412474,  0.43771696, -0.4171073 ],\n",
              "        [-0.27141879, -0.54741591, -0.32505582,  0.57009895,  0.4427116 ],\n",
              "        [ 0.74443628, -0.30014949, -0.1713143 , -0.3696936 ,  0.43554903],\n",
              "        [-0.343584  ,  0.51854119, -0.55089006, -0.3285033 ,  0.44907772]]))"
            ]
          },
          "metadata": {},
          "execution_count": 6
        }
      ]
    },
    {
      "cell_type": "code",
      "source": [
        "#12\n",
        "#importing the required library\n",
        "import numpy as np\n",
        "# Define the column vector\n",
        "a=np.array([\n",
        "    [5],\n",
        "    [9],\n",
        "    [11]\n",
        "])\n",
        "#calculating the norm\n",
        "norm = np.linalg.norm(a)\n",
        "print(\" norm of the column vector:\",norm)"
      ],
      "metadata": {
        "colab": {
          "base_uri": "https://localhost:8080/"
        },
        "id": "ru0bhtkrVTIZ",
        "outputId": "4f22b089-8278-45cf-cb89-9b9639dc6d1b"
      },
      "execution_count": null,
      "outputs": [
        {
          "output_type": "stream",
          "name": "stdout",
          "text": [
            " norm of the column vector: 15.066519173319364\n"
          ]
        }
      ]
    },
    {
      "cell_type": "code",
      "source": [
        "#12\n",
        "#importing the required library\n",
        "import numpy as np\n",
        "# Define the column vectors\n",
        "a=np.array([\n",
        "    [5],\n",
        "    [9],\n",
        "    [11]\n",
        "])\n",
        "b=np.array([\n",
        "    [6],\n",
        "    [9],\n",
        "    [12]\n",
        "])\n",
        "#getting inner product of the vector\n",
        "i_product = np.dot(a.T,b)\n",
        "print(\"inner product:\",i_product)"
      ],
      "metadata": {
        "colab": {
          "base_uri": "https://localhost:8080/"
        },
        "id": "Hm8ZX-6TVW7w",
        "outputId": "79688f82-be6f-4917-a3da-9c71f8e4ca3e"
      },
      "execution_count": null,
      "outputs": [
        {
          "output_type": "stream",
          "name": "stdout",
          "text": [
            "inner product: [[243]]\n"
          ]
        }
      ]
    },
    {
      "cell_type": "code",
      "source": [
        "#12\n",
        "#importing the required libraries\n",
        "import numpy as np\n",
        "# Define the column vectors\n",
        "a=np.array([\n",
        "    [5],\n",
        "    [9],\n",
        "    [11]\n",
        "])\n",
        "b=np.array([\n",
        "    [6],\n",
        "    [9],\n",
        "    [12]\n",
        "])\n",
        "#getting outer product of the vectors\n",
        "o_product = np.outer(a,b.T)\n",
        "print(\"outer product:\",o_product)"
      ],
      "metadata": {
        "id": "wZ5Be5AJVexz"
      },
      "execution_count": null,
      "outputs": []
    },
    {
      "cell_type": "code",
      "source": [
        "#13\n",
        "#importing the required library\n",
        "import math\n",
        "#defining the function derivative\n",
        "def derivative(f,a,method='central',h=0.01):\n",
        "#applying if loop and giving the conditions\n",
        "    if method == 'forward':\n",
        "        return (f(a+h)-f(a))/h\n",
        "#applying the elif conditions\n",
        "    elif method == 'backward':\n",
        "        return (f(a)-f(a-h))/h\n",
        "#applying the elif conditions\n",
        "    elif method == 'central':\n",
        "        return (f(a+h)-f(a-h))/(2*h)\n",
        "#applying the else and giving conditions\n",
        "    else:\n",
        "        raise ValueError(\"Invalid method. Use 'forward', 'backward', or 'central'.\")\n",
        "# Test the function on exp(x) and cos(x) at x = 0.5\n",
        "x = 0.5\n",
        "exp = derivative(math.exp, x)\n",
        "cos = derivative(math.cos, x)\n",
        "\n",
        "print(\"Derivative of exp(x)\", x, \":\",exp)\n",
        "print(\"Derivative of cos(x)\", x, \":\",cos)"
      ],
      "metadata": {
        "colab": {
          "base_uri": "https://localhost:8080/"
        },
        "id": "nlpKcSJlWLbL",
        "outputId": "9cccb664-38b3-436c-d709-6a5322f5fe59"
      },
      "execution_count": null,
      "outputs": [
        {
          "output_type": "stream",
          "name": "stdout",
          "text": [
            "Derivative of exp(x) 0.5 : 1.648748749525375\n",
            "Derivative of cos(x) 0.5 : -0.4794175482185081\n"
          ]
        }
      ]
    },
    {
      "cell_type": "code",
      "source": [
        "#14\n",
        "#importing the required library\n",
        "import pandas as pd\n",
        "#reading the csv file and copying the path of the required csv file\n",
        "df=pd.read_csv(\"/content/surface_data (3).csv\")\n",
        "#printing the data frame\n",
        "print(df)"
      ],
      "metadata": {
        "colab": {
          "base_uri": "https://localhost:8080/"
        },
        "id": "_rHcU8AiYfSQ",
        "outputId": "643b3cb3-2a92-404c-d07b-4f1d3a8ac4b7"
      },
      "execution_count": null,
      "outputs": [
        {
          "output_type": "stream",
          "name": "stdout",
          "text": [
            "         obstime     tempr        ap      ws       wd       rh\n",
            "0     1985-02-26  -10.0000  983.0250  16.125   11.750   64.875\n",
            "1     1985-02-27  -12.6250  981.5750   5.875   29.250   58.625\n",
            "2     1985-02-28  -17.1875  983.7750   3.000   99.000   55.125\n",
            "3     1985-03-01 -507.6250  986.3375  19.125 -493.625 -999.000\n",
            "4     1985-03-02 -257.3125  497.7500  33.875 -243.000 -224.125\n",
            "...          ...       ...       ...     ...      ...      ...\n",
            "9380  2010-12-27   -0.1125  996.9375   5.625   15.750 -999.000\n",
            "9381  2010-12-28   -0.7000  994.6750  19.250    9.750 -999.000\n",
            "9382  2010-12-29    0.6375  994.2875  22.250   10.250 -999.000\n",
            "9383  2010-12-30    1.4375  992.5125  14.500   10.250 -999.000\n",
            "9384  2010-12-31    0.9500  989.2000  16.500   11.500 -999.000\n",
            "\n",
            "[9385 rows x 6 columns]\n"
          ]
        }
      ]
    }
  ]
}